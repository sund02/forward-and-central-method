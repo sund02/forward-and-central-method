{
 "cells": [
  {
   "cell_type": "code",
   "execution_count": null,
   "metadata": {},
   "outputs": [],
   "source": [
    "import numpy as np\n",
    "import matplotlib.pyplot as plt\n",
    "import sympy as sp\n",
    "\n",
    "x = sp.symbols('x')\n",
    "pi = sp.pi\n",
    "sqrt = sp.sqrt\n",
    "cos = sp.cos\n",
    "ln = sp.log\n",
    "\n",
    "\n",
    "f = (sqrt((x - 5)**5) + 2 * cos(pi * sqrt(x))) / (sqrt(x + 4 * ln(x - pi)) - 1)\n",
    "\n",
    "# Compute the actual derivative symbolically\n",
    "actual_d = sp.diff(f, x)\n",
    "print(\"Symbolic derivative:\", actual_d)\n",
    "\n",
    "# Convert the symbolic function to a numerical function\n",
    "f_num = sp.lambdify(x, f, 'numpy')\n",
    "actual_d_num = sp.lambdify(x, actual_d, 'numpy')\n",
    "\n",
    "\n",
    "def forward(f, x, h):\n",
    "    return [(f(x + hi) - f(x)) / hi for hi in h]\n",
    "\n",
    "\n",
    "def central(f, x, h):\n",
    "    return [(f(x + hi) - f(x - hi)) / (2 * hi) for hi in h]\n",
    "\n",
    "\n",
    "h = [0.04, 0.02, 0.01]\n",
    "# Evaluate the derivatives at x = 7\n",
    "x_val = 7\n",
    "d1 = forward(f_num, x_val, h)\n",
    "d2 = central(f_num, x_val, h)\n",
    "\n",
    "print(\"Forward difference:\", d1)\n",
    "print(\"Central difference:\", d2)\n",
    "print(\"Actual derivative at x=7:\", actual_d_num(x_val))\n"
   ]
  }
 ],
 "metadata": {
  "language_info": {
   "name": "python"
  }
 },
 "nbformat": 4,
 "nbformat_minor": 2
}
